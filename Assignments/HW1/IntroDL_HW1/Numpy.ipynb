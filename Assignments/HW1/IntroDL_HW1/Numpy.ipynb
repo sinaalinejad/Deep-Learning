{
  "cells": [
    {
      "cell_type": "markdown",
      "id": "0c4917d3",
      "metadata": {
        "id": "0c4917d3"
      },
      "source": [
        "## A review of numpy arrays and matrices + matplotlib\n",
        "Open an interactive python environment (python shell, ipython shell, or jupyter notebook), and run the following commands and see the output. Do not close the environment"
      ]
    },
    {
      "cell_type": "markdown",
      "id": "f855652f",
      "metadata": {
        "id": "f855652f"
      },
      "source": [
        "### Creating numpy arrays"
      ]
    },
    {
      "cell_type": "code",
      "execution_count": 1,
      "id": "6281ded4",
      "metadata": {
        "id": "6281ded4"
      },
      "outputs": [
        {
          "name": "stdout",
          "output_type": "stream",
          "text": [
            "[1, 2, 3]\n",
            "[1 2 3]\n",
            "type(l) : <class 'list'>\n",
            "type(a) : <class 'numpy.ndarray'>\n"
          ]
        }
      ],
      "source": [
        "import numpy as np\n",
        "l = [1, 2, 3]\n",
        "print(l)\n",
        "a = np.array(l)\n",
        "print(a)\n",
        "\n",
        "print(f'type(l) : {type(l)}')\n",
        "print(f'type(a) : {type(a)}')"
      ]
    },
    {
      "cell_type": "code",
      "execution_count": 2,
      "id": "0519f5b7",
      "metadata": {
        "id": "0519f5b7"
      },
      "outputs": [
        {
          "name": "stdout",
          "output_type": "stream",
          "text": [
            "[0. 0. 0. 0. 0. 0. 0. 0. 0. 0.]\n",
            "a.dtype : float64\n",
            "[0. 0. 4. 0. 0. 0. 0. 0. 0. 0.]\n"
          ]
        }
      ],
      "source": [
        "a = np.zeros(10)\n",
        "print(a)\n",
        "print(f'a.dtype : {a.dtype}')\n",
        "a[2] = 4\n",
        "print(a)"
      ]
    },
    {
      "cell_type": "code",
      "execution_count": 3,
      "id": "70eba6d5",
      "metadata": {
        "id": "70eba6d5"
      },
      "outputs": [
        {
          "name": "stdout",
          "output_type": "stream",
          "text": [
            "[0 0 0 0 0 0 0 0 0 0]\n",
            "a.dtype : int64\n"
          ]
        }
      ],
      "source": [
        "a = np.zeros(10, dtype=np.int64)\n",
        "print(a)\n",
        "print(f'a.dtype : {a.dtype}')"
      ]
    },
    {
      "cell_type": "code",
      "execution_count": 4,
      "id": "299a999b",
      "metadata": {
        "id": "299a999b"
      },
      "outputs": [
        {
          "name": "stdout",
          "output_type": "stream",
          "text": [
            "[1. 1. 1. 1. 1. 1. 1. 1. 1. 1.]\n"
          ]
        }
      ],
      "source": [
        "a = np.ones(10)\n",
        "print(a)"
      ]
    },
    {
      "cell_type": "code",
      "execution_count": 5,
      "id": "bdde6e6e",
      "metadata": {
        "id": "bdde6e6e"
      },
      "outputs": [
        {
          "name": "stdout",
          "output_type": "stream",
          "text": [
            "[123 123 123 123 123]\n"
          ]
        }
      ],
      "source": [
        "a = np.full(5,123)\n",
        "print(a)"
      ]
    },
    {
      "cell_type": "code",
      "execution_count": 9,
      "id": "0e5de9c9",
      "metadata": {
        "id": "0e5de9c9"
      },
      "outputs": [
        {
          "name": "stdout",
          "output_type": "stream",
          "text": [
            "[0 1 2 3 4 5 6 7 8 9]\n"
          ]
        }
      ],
      "source": [
        "a = np.arange(10)\n",
        "print(a)"
      ]
    },
    {
      "cell_type": "markdown",
      "id": "f5d48446",
      "metadata": {
        "id": "f5d48446"
      },
      "source": [
        "### Numpy array basic properties and methods"
      ]
    },
    {
      "cell_type": "code",
      "execution_count": 11,
      "id": "d1f59ce2",
      "metadata": {
        "id": "d1f59ce2"
      },
      "outputs": [
        {
          "name": "stdout",
          "output_type": "stream",
          "text": [
            "len(a) : 3\n",
            "a.shape : (3,)\n",
            "type(a) : <class 'numpy.ndarray'>\n",
            "a.size : 3\n",
            "a.ndim : 1\n",
            "a.dtype : int32\n"
          ]
        }
      ],
      "source": [
        "a = np.array([1, 2, 3])\n",
        "print(f'len(a) : {len(a)}')\n",
        "print(f'a.shape : {a.shape}')\n",
        "print(f'type(a) : {type(a)}')\n",
        "print(f'a.size : {a.size}')\n",
        "print(f'a.ndim : {a.ndim}')\n",
        "print(f'a.dtype : {a.dtype}')"
      ]
    },
    {
      "cell_type": "markdown",
      "id": "08a5d04b",
      "metadata": {
        "id": "08a5d04b"
      },
      "source": [
        "### Lists vs numpy array"
      ]
    },
    {
      "cell_type": "code",
      "execution_count": 12,
      "id": "39c91a5a",
      "metadata": {
        "id": "39c91a5a"
      },
      "outputs": [
        {
          "name": "stdout",
          "output_type": "stream",
          "text": [
            "l1 + l2 : [1, 2, 3, 4, 5, 6]\n",
            "a1 + a2 : [5 7 9]\n"
          ]
        }
      ],
      "source": [
        "l1 = [1,2,3]\n",
        "l2 = [4,5,6]\n",
        "\n",
        "a1 = np.array(l1)\n",
        "a2 = np.array(l2)\n",
        "\n",
        "print(f'l1 + l2 : {l1 + l2}')\n",
        "print(f'a1 + a2 : {a1 + a2}')"
      ]
    },
    {
      "cell_type": "markdown",
      "id": "258cf1bf",
      "metadata": {
        "id": "258cf1bf"
      },
      "source": [
        "### Basic operations"
      ]
    },
    {
      "cell_type": "code",
      "execution_count": 13,
      "id": "8c51a151",
      "metadata": {
        "id": "8c51a151"
      },
      "outputs": [
        {
          "name": "stdout",
          "output_type": "stream",
          "text": [
            "a+b : [5 7 9]\n",
            "a-b : [-3 -3 -3]\n",
            "a*b : [ 4 10 18]\n",
            "b**a : [  4  25 216]\n",
            "a+4 : [5 6 7]\n",
            "a*2 : [2 4 6]\n",
            "b/a : [4.  2.5 2. ]\n",
            "b//a : [4 2 2]\n"
          ]
        }
      ],
      "source": [
        "a = np.array([1, 2, 3])\n",
        "b = np.array([4, 5, 6])\n",
        "print(f'a+b : {a+b}')\n",
        "print(f'a-b : {a-b}')\n",
        "print(f'a*b : {a*b}')\n",
        "print(f'b**a : {b**a}')\n",
        "print(f'a+4 : {a+4}')\n",
        "print(f'a*2 : {a*2}')\n",
        "print(f'b/a : {b/a}')    # Note that the output type is float !\n",
        "print(f'b//a : {b//a}')"
      ]
    },
    {
      "cell_type": "markdown",
      "id": "ffe3d029",
      "metadata": {
        "id": "ffe3d029"
      },
      "source": [
        "### Slicing"
      ]
    },
    {
      "cell_type": "code",
      "execution_count": 14,
      "id": "6ef34c91",
      "metadata": {
        "id": "6ef34c91"
      },
      "outputs": [
        {
          "name": "stdout",
          "output_type": "stream",
          "text": [
            "a : [  0  10  20  30  40  50  60  70  80  90 100]\n",
            "a[2] : 20\n",
            "a[2:8] : [20 30 40 50 60 70]\n",
            "a[2:-1] : [20 30 40 50 60 70 80 90]\n",
            "a[2:] : [ 20  30  40  50  60  70  80  90 100]\n",
            "a[:8] : [ 0 10 20 30 40 50 60 70]\n",
            "a[2:8:2] : [20 40 60]\n",
            "a[8:2:-1] : [80 70 60 50 40 30]\n",
            "a[::-1] : [100  90  80  70  60  50  40  30  20  10   0]\n",
            "a[[1,3,3,4,5]] : [10 30 30 40 50]\n"
          ]
        }
      ],
      "source": [
        "a = np.array([0,10,20,30,40, 50, 60, 70, 80, 90, 100])\n",
        "print(f'a : {a}')\n",
        "print(f'a[2] : {a[2]}')\n",
        "print(f'a[2:8] : {a[2:8]}')\n",
        "print(f'a[2:-1] : {a[2:-1]}')\n",
        "print(f'a[2:] : {a[2:]}')\n",
        "print(f'a[:8] : {a[:8]}')\n",
        "print(f'a[2:8:2] : {a[2:8:2]}')\n",
        "print(f'a[8:2:-1] : {a[8:2:-1]}')\n",
        "print(f'a[::-1] : {a[::-1]}')\n",
        "print(f'a[[1,3,3,4,5]] : {a[[1,3,3,4,5]]}')"
      ]
    },
    {
      "cell_type": "markdown",
      "id": "98bc9add",
      "metadata": {
        "id": "98bc9add"
      },
      "source": [
        "### 2D Arrays"
      ]
    },
    {
      "cell_type": "code",
      "execution_count": 15,
      "id": "ed560340",
      "metadata": {
        "id": "ed560340"
      },
      "outputs": [
        {
          "name": "stdout",
          "output_type": "stream",
          "text": [
            "[[0. 0. 0. 0. 0. 0.]\n",
            " [0. 0. 0. 0. 0. 0.]\n",
            " [0. 0. 0. 0. 0. 0.]\n",
            " [0. 0. 0. 0. 0. 0.]]\n"
          ]
        }
      ],
      "source": [
        "A = np.zeros((4,6))\n",
        "print(A)"
      ]
    },
    {
      "cell_type": "code",
      "execution_count": 16,
      "id": "640f1432",
      "metadata": {
        "id": "640f1432"
      },
      "outputs": [
        {
          "name": "stdout",
          "output_type": "stream",
          "text": [
            "[[1 1 1 1 1 1]\n",
            " [1 1 1 1 1 1]\n",
            " [1 1 1 1 1 1]\n",
            " [1 1 1 1 1 1]]\n"
          ]
        }
      ],
      "source": [
        "A = np.ones((4,6), dtype = np.int32)\n",
        "print(A)"
      ]
    },
    {
      "cell_type": "code",
      "execution_count": 17,
      "id": "49dc7699",
      "metadata": {
        "id": "49dc7699"
      },
      "outputs": [
        {
          "name": "stdout",
          "output_type": "stream",
          "text": [
            "[[50. 50. 50.]\n",
            " [50. 50. 50.]\n",
            " [50. 50. 50.]\n",
            " [50. 50. 50.]]\n"
          ]
        }
      ],
      "source": [
        "A = np.full((4, 3), 50.0)\n",
        "print(A)"
      ]
    },
    {
      "cell_type": "code",
      "execution_count": 18,
      "id": "6eb2dc8a",
      "metadata": {
        "id": "6eb2dc8a"
      },
      "outputs": [
        {
          "name": "stdout",
          "output_type": "stream",
          "text": [
            "[[ 1  2  3  4]\n",
            " [ 5  6  7  8]\n",
            " [ 9 10 11 12]]\n",
            "\n",
            "A[1,2] : 7\n",
            "A[0,-1] : 4\n",
            "A.shape : (3, 4)\n",
            "A.shape[0] : 3\n",
            "A.shape[1] : 4\n",
            "A.shape[::-1] : (4, 3)\n",
            "A.size : 12\n",
            "A.ndim : 2\n"
          ]
        }
      ],
      "source": [
        "A = np.array([[1,2,3,4], [5,6,7,8], [9,10,11,12]])\n",
        "print(A)\n",
        "print()\n",
        "print(f'A[1,2] : {A[1,2]}')\n",
        "print(f'A[0,-1] : {A[0,-1]}')\n",
        "print(f'A.shape : {A.shape}')\n",
        "print(f'A.shape[0] : {A.shape[0]}')\n",
        "print(f'A.shape[1] : {A.shape[1]}')\n",
        "print(f'A.shape[::-1] : {A.shape[::-1]}')\n",
        "print(f'A.size : {A.size}')\n",
        "print(f'A.ndim : {A.ndim}')"
      ]
    },
    {
      "cell_type": "code",
      "execution_count": 22,
      "id": "56504333",
      "metadata": {
        "id": "56504333"
      },
      "outputs": [
        {
          "name": "stdout",
          "output_type": "stream",
          "text": [
            "A[0, :] = [1 2 3 4]\n",
            "A[0, :].shape = (4,)\n",
            "A[[0], :] = [[1 2 3 4]\n",
            " [5 6 7 8]]\n",
            "A[[0], :].shape = (1, 4)\n",
            "A[:,2] = [ 3  7 11]\n",
            "A[:,2].shape = (3,)\n",
            "A[:,[2]] = \n",
            "[[ 3]\n",
            " [ 7]\n",
            " [11]]\n",
            "A[:,[2]].shape = (3, 1)\n"
          ]
        }
      ],
      "source": [
        "print(f'A[0, :] = {A[0, :]}')\n",
        "print(f'A[0, :].shape = {A[0, :].shape}')\n",
        "print(f'A[[0], :] = {A[[0,1], :]}')\n",
        "print(f'A[[0], :].shape = {A[[0], :].shape}')\n",
        "print(f'A[:,2] = {A[:,2]}')\n",
        "print(f'A[:,2].shape = {A[:,2].shape}')\n",
        "print(f'A[:,[2]] = \\n{A[:,[2]]}')\n",
        "print(f'A[:,[2]].shape = {A[:,[2]].shape}')\n"
      ]
    },
    {
      "cell_type": "code",
      "execution_count": 23,
      "id": "65c2bbf1",
      "metadata": {
        "id": "65c2bbf1"
      },
      "outputs": [
        {
          "name": "stdout",
          "output_type": "stream",
          "text": [
            "A[1:3] = \n",
            "[[ 5  6  7  8]\n",
            " [ 9 10 11 12]]\n",
            "\n",
            "A[1:3, :] = \n",
            "[[ 5  6  7  8]\n",
            " [ 9 10 11 12]]\n",
            "\n",
            "A[:,:3] = \n",
            "[[ 1  2  3]\n",
            " [ 5  6  7]\n",
            " [ 9 10 11]]\n",
            "\n",
            "A[:,::2] = \n",
            "[[ 1  3]\n",
            " [ 5  7]\n",
            " [ 9 11]]\n",
            "\n",
            "A[:,::-1] = \n",
            "[[ 4  3  2  1]\n",
            " [ 8  7  6  5]\n",
            " [12 11 10  9]]\n"
          ]
        }
      ],
      "source": [
        "print(f'A[1:3] = \\n{A[1:3]}')\n",
        "print()\n",
        "print(f'A[1:3, :] = \\n{A[1:3, :]}')\n",
        "print()\n",
        "print(f'A[:,:3] = \\n{A[:,:3]}')\n",
        "print()\n",
        "print(f'A[:,::2] = \\n{A[:,::2]}')\n",
        "print()\n",
        "print(f'A[:,::-1] = \\n{A[:,::-1]}')"
      ]
    },
    {
      "cell_type": "code",
      "execution_count": 26,
      "id": "1c072c5c",
      "metadata": {
        "id": "1c072c5c"
      },
      "outputs": [
        {
          "name": "stdout",
          "output_type": "stream",
          "text": [
            "A = \n",
            "[[ 1  2  3  4]\n",
            " [ 5  6  7  8]\n",
            " [ 9 10 11 12]]\n",
            "\n",
            "A[r,:] = \n",
            "[[ 1  2  3  4]\n",
            " [ 5  6  7  8]\n",
            " [ 1  2  3  4]\n",
            " [ 9 10 11 12]\n",
            " [ 9 10 11 12]]\n"
          ]
        }
      ],
      "source": [
        "r = np.array([0, 1, 0, 2, 2])\n",
        "print(f'A = \\n{A}')\n",
        "print()\n",
        "print(f'A[r,:] = \\n{A[r,:]}')"
      ]
    },
    {
      "cell_type": "code",
      "execution_count": 27,
      "id": "602168e7",
      "metadata": {
        "id": "602168e7"
      },
      "outputs": [
        {
          "name": "stdout",
          "output_type": "stream",
          "text": [
            "A = \n",
            "[[ 1  2  3  4]\n",
            " [ 5  6  7  8]\n",
            " [ 9 10 11 12]]\n",
            "\n",
            "A = \n",
            "[[ 1  2  3  4]\n",
            " [ 1  6  7  8]\n",
            " [ 1 10 11 12]]\n",
            "\n",
            "A = \n",
            "[[20  2  3  4]\n",
            " [30  6  7  8]\n",
            " [40 10 11 12]]\n"
          ]
        }
      ],
      "source": [
        "print(f'A = \\n{A}')\n",
        "print()\n",
        "A[:,0] = 1\n",
        "print(f'A = \\n{A}')\n",
        "print()\n",
        "A[:,0] = [20,30,40]\n",
        "print(f'A = \\n{A}')"
      ]
    },
    {
      "cell_type": "code",
      "execution_count": 28,
      "id": "7639f2f4",
      "metadata": {
        "id": "7639f2f4"
      },
      "outputs": [
        {
          "name": "stdout",
          "output_type": "stream",
          "text": [
            "A = \n",
            "[[20  2  3  4]\n",
            " [30  6  7  8]\n",
            " [40 10 11 12]]\n",
            "\n",
            "A.T = \n",
            "[[20 30 40]\n",
            " [ 2  6 10]\n",
            " [ 3  7 11]\n",
            " [ 4  8 12]]\n"
          ]
        }
      ],
      "source": [
        "print(f'A = \\n{A}')\n",
        "print()\n",
        "print(f'A.T = \\n{A.T}')"
      ]
    },
    {
      "cell_type": "code",
      "execution_count": 29,
      "id": "6f649ce5",
      "metadata": {
        "id": "6f649ce5"
      },
      "outputs": [
        {
          "name": "stdout",
          "output_type": "stream",
          "text": [
            "A = \n",
            "[[20  2  3  4]\n",
            " [30  6  7  8]\n",
            " [40 10 11 12]]\n",
            "\n",
            "B = \n",
            "[[1 1 1 1]\n",
            " [2 2 2 2]\n",
            " [3 3 3 3]]\n",
            "\n",
            "A+B = \n",
            "[[21  3  4  5]\n",
            " [32  8  9 10]\n",
            " [43 13 14 15]]\n",
            "\n",
            "A*B = \n",
            "[[ 20   2   3   4]\n",
            " [ 60  12  14  16]\n",
            " [120  30  33  36]]\n",
            "\n",
            "A.dot(B.T) = \n",
            "[[ 29  58  87]\n",
            " [ 51 102 153]\n",
            " [ 73 146 219]]\n",
            "\n",
            "A @ B.T = \n",
            "[[ 29  58  87]\n",
            " [ 51 102 153]\n",
            " [ 73 146 219]]\n",
            "\n"
          ]
        },
        {
          "ename": "ValueError",
          "evalue": "shapes (3,4) and (3,4) not aligned: 4 (dim 1) != 3 (dim 0)",
          "output_type": "error",
          "traceback": [
            "\u001b[1;31m---------------------------------------------------------------------------\u001b[0m",
            "\u001b[1;31mValueError\u001b[0m                                Traceback (most recent call last)",
            "\u001b[1;32mC:\\Users\\SINAAL~1\\AppData\\Local\\Temp/ipykernel_24692/398896252.py\u001b[0m in \u001b[0;36m<module>\u001b[1;34m\u001b[0m\n\u001b[0;32m     12\u001b[0m \u001b[0mprint\u001b[0m\u001b[1;33m(\u001b[0m\u001b[1;34mf'A @ B.T = \\n{A.dot(B.T)}'\u001b[0m\u001b[1;33m)\u001b[0m\u001b[1;33m\u001b[0m\u001b[1;33m\u001b[0m\u001b[0m\n\u001b[0;32m     13\u001b[0m \u001b[0mprint\u001b[0m\u001b[1;33m(\u001b[0m\u001b[1;33m)\u001b[0m\u001b[1;33m\u001b[0m\u001b[1;33m\u001b[0m\u001b[0m\n\u001b[1;32m---> 14\u001b[1;33m \u001b[0mprint\u001b[0m\u001b[1;33m(\u001b[0m\u001b[1;34mf'A.dot(B) = \\n{A.dot(B)}'\u001b[0m\u001b[1;33m)\u001b[0m    \u001b[1;31m# What is the Error about ?\u001b[0m\u001b[1;33m\u001b[0m\u001b[1;33m\u001b[0m\u001b[0m\n\u001b[0m",
            "\u001b[1;31mValueError\u001b[0m: shapes (3,4) and (3,4) not aligned: 4 (dim 1) != 3 (dim 0)"
          ]
        }
      ],
      "source": [
        "B = np.array([[1,1,1,1], [2,2,2,2], [3,3,3,3]])\n",
        "print(f'A = \\n{A}')\n",
        "print()\n",
        "print(f'B = \\n{B}')\n",
        "print()\n",
        "print(f'A+B = \\n{A+B}')\n",
        "print()\n",
        "print(f'A*B = \\n{A*B}')\n",
        "print()\n",
        "print(f'A.dot(B.T) = \\n{A.dot(B.T)}')\n",
        "print()\n",
        "print(f'A @ B.T = \\n{A.dot(B.T)}')\n",
        "print()\n",
        "print(f'A.dot(B) = \\n{A.dot(B)}')    # What is the Error about ? "
      ]
    },
    {
      "cell_type": "code",
      "execution_count": 30,
      "id": "317c9082",
      "metadata": {
        "id": "317c9082"
      },
      "outputs": [
        {
          "name": "stdout",
          "output_type": "stream",
          "text": [
            "[[0.13226069 0.19622493 0.07959045]\n",
            " [0.19165228 0.23776806 0.15403694]]\n",
            "\n",
            "Help on built-in function random:\n",
            "\n",
            "random(...) method of numpy.random.mtrand.RandomState instance\n",
            "    random(size=None)\n",
            "    \n",
            "    Return random floats in the half-open interval [0.0, 1.0). Alias for\n",
            "    `random_sample` to ease forward-porting to the new random API.\n",
            "\n",
            "None\n"
          ]
        }
      ],
      "source": [
        "print(np.random.random((2,3)))\n",
        "print()\n",
        "print(help(np.random.random))"
      ]
    },
    {
      "cell_type": "code",
      "execution_count": 31,
      "id": "1151031b",
      "metadata": {
        "id": "1151031b"
      },
      "outputs": [
        {
          "name": "stdout",
          "output_type": "stream",
          "text": [
            "[[0.19729432 0.30527708 0.65435002]\n",
            " [0.43108706 0.39520556 0.22042331]]\n",
            "\n",
            "Help on built-in function rand:\n",
            "\n",
            "rand(...) method of numpy.random.mtrand.RandomState instance\n",
            "    rand(d0, d1, ..., dn)\n",
            "    \n",
            "    Random values in a given shape.\n",
            "    \n",
            "    .. note::\n",
            "        This is a convenience function for users porting code from Matlab,\n",
            "        and wraps `random_sample`. That function takes a\n",
            "        tuple to specify the size of the output, which is consistent with\n",
            "        other NumPy functions like `numpy.zeros` and `numpy.ones`.\n",
            "    \n",
            "    Create an array of the given shape and populate it with\n",
            "    random samples from a uniform distribution\n",
            "    over ``[0, 1)``.\n",
            "    \n",
            "    Parameters\n",
            "    ----------\n",
            "    d0, d1, ..., dn : int, optional\n",
            "        The dimensions of the returned array, must be non-negative.\n",
            "        If no argument is given a single Python float is returned.\n",
            "    \n",
            "    Returns\n",
            "    -------\n",
            "    out : ndarray, shape ``(d0, d1, ..., dn)``\n",
            "        Random values.\n",
            "    \n",
            "    See Also\n",
            "    --------\n",
            "    random\n",
            "    \n",
            "    Examples\n",
            "    --------\n",
            "    >>> np.random.rand(3,2)\n",
            "    array([[ 0.14022471,  0.96360618],  #random\n",
            "           [ 0.37601032,  0.25528411],  #random\n",
            "           [ 0.49313049,  0.94909878]]) #random\n",
            "\n",
            "None\n"
          ]
        }
      ],
      "source": [
        "print(np.random.rand(2,3))\n",
        "print()\n",
        "print(help(np.random.rand))"
      ]
    },
    {
      "cell_type": "code",
      "execution_count": 32,
      "id": "3b5f83bc",
      "metadata": {
        "id": "3b5f83bc"
      },
      "outputs": [
        {
          "name": "stdout",
          "output_type": "stream",
          "text": [
            "[[ 0.03158888  1.04711768 -0.07279416]\n",
            " [ 0.16284282  0.11312822 -0.79203294]]\n",
            "\n",
            "Help on built-in function randn:\n",
            "\n",
            "randn(...) method of numpy.random.mtrand.RandomState instance\n",
            "    randn(d0, d1, ..., dn)\n",
            "    \n",
            "    Return a sample (or samples) from the \"standard normal\" distribution.\n",
            "    \n",
            "    .. note::\n",
            "        This is a convenience function for users porting code from Matlab,\n",
            "        and wraps `standard_normal`. That function takes a\n",
            "        tuple to specify the size of the output, which is consistent with\n",
            "        other NumPy functions like `numpy.zeros` and `numpy.ones`.\n",
            "    \n",
            "    .. note::\n",
            "        New code should use the ``standard_normal`` method of a ``default_rng()``\n",
            "        instance instead; please see the :ref:`random-quick-start`.\n",
            "    \n",
            "    If positive int_like arguments are provided, `randn` generates an array\n",
            "    of shape ``(d0, d1, ..., dn)``, filled\n",
            "    with random floats sampled from a univariate \"normal\" (Gaussian)\n",
            "    distribution of mean 0 and variance 1. A single float randomly sampled\n",
            "    from the distribution is returned if no argument is provided.\n",
            "    \n",
            "    Parameters\n",
            "    ----------\n",
            "    d0, d1, ..., dn : int, optional\n",
            "        The dimensions of the returned array, must be non-negative.\n",
            "        If no argument is given a single Python float is returned.\n",
            "    \n",
            "    Returns\n",
            "    -------\n",
            "    Z : ndarray or float\n",
            "        A ``(d0, d1, ..., dn)``-shaped array of floating-point samples from\n",
            "        the standard normal distribution, or a single such float if\n",
            "        no parameters were supplied.\n",
            "    \n",
            "    See Also\n",
            "    --------\n",
            "    standard_normal : Similar, but takes a tuple as its argument.\n",
            "    normal : Also accepts mu and sigma arguments.\n",
            "    Generator.standard_normal: which should be used for new code.\n",
            "    \n",
            "    Notes\n",
            "    -----\n",
            "    For random samples from :math:`N(\\mu, \\sigma^2)`, use:\n",
            "    \n",
            "    ``sigma * np.random.randn(...) + mu``\n",
            "    \n",
            "    Examples\n",
            "    --------\n",
            "    >>> np.random.randn()\n",
            "    2.1923875335537315  # random\n",
            "    \n",
            "    Two-by-four array of samples from N(3, 6.25):\n",
            "    \n",
            "    >>> 3 + 2.5 * np.random.randn(2, 4)\n",
            "    array([[-4.49401501,  4.00950034, -1.81814867,  7.29718677],   # random\n",
            "           [ 0.39924804,  4.68456316,  4.99394529,  4.84057254]])  # random\n",
            "\n",
            "None\n"
          ]
        }
      ],
      "source": [
        "print(np.random.randn(2,3))\n",
        "print()\n",
        "print(help(np.random.randn))"
      ]
    },
    {
      "cell_type": "markdown",
      "id": "ad953815",
      "metadata": {
        "id": "ad953815"
      },
      "source": [
        "### Numpy slices are references (not copies)"
      ]
    },
    {
      "cell_type": "code",
      "execution_count": 33,
      "id": "f5e88030",
      "metadata": {
        "id": "f5e88030"
      },
      "outputs": [
        {
          "name": "stdout",
          "output_type": "stream",
          "text": [
            "A = \n",
            "[[ 1  2  3  4]\n",
            " [ 5  6  7  8]\n",
            " [ 9 10 11 12]]\n",
            "\n",
            "b = [ 2  6 10]\n",
            "\n",
            "A = \n",
            "[[  1   2   3   4]\n",
            " [  5 100   7   8]\n",
            " [  9  10  11  12]]\n",
            "\n",
            "b = [  2 100  10]\n"
          ]
        }
      ],
      "source": [
        "A = A = np.array([[1,2,3,4], [5,6,7,8], [9,10,11,12]])\n",
        "b = A[: ,1]\n",
        "print(f'A = \\n{A}')\n",
        "print()\n",
        "print(f'b = {b}')\n",
        "print()\n",
        "b[1] = 100\n",
        "print(f'A = \\n{A}')\n",
        "print()\n",
        "print(f'b = {b}')"
      ]
    },
    {
      "cell_type": "code",
      "execution_count": 34,
      "id": "6b533bf9",
      "metadata": {
        "id": "6b533bf9"
      },
      "outputs": [
        {
          "name": "stdout",
          "output_type": "stream",
          "text": [
            "b = [1 5 9]\n",
            "\n",
            "A = \n",
            "[[  1   2   3   4]\n",
            " [  5 100   7   8]\n",
            " [  9  10  11  12]]\n",
            "\n",
            "b = [   1 -200    9]\n"
          ]
        }
      ],
      "source": [
        "b = A[: ,0].copy()\n",
        "print(f'b = {b}')\n",
        "print()\n",
        "b[1] = -200\n",
        "print(f'A = \\n{A}')\n",
        "print()\n",
        "print(f'b = {b}')"
      ]
    },
    {
      "cell_type": "markdown",
      "id": "d273feed",
      "metadata": {
        "id": "d273feed"
      },
      "source": [
        "### Masks"
      ]
    },
    {
      "cell_type": "code",
      "execution_count": 37,
      "id": "d8ee20b0",
      "metadata": {
        "id": "d8ee20b0"
      },
      "outputs": [
        {
          "name": "stdout",
          "output_type": "stream",
          "text": [
            "A = \n",
            "[[ 1  2  3  4]\n",
            " [ 5  6  7  8]\n",
            " [ 9 10 11 12]]\n",
            "\n",
            "A > 2 = \n",
            "[[ True  True  True  True]\n",
            " [ True  True  True False]\n",
            " [False False False False]]\n",
            "\n",
            "A[mask] = \n",
            "[1 2 3 4 5 6 7]\n",
            "\n",
            "A = \n",
            "[[ 2  4  6  8]\n",
            " [10 12 14  8]\n",
            " [ 9 10 11 12]]\n"
          ]
        }
      ],
      "source": [
        "A = np.array([[1,2,3,4], [5,6,7,8], [9,10,11,12]])\n",
        "print(f'A = \\n{A}')\n",
        "print()\n",
        "print(f'A > 2 = \\n{A <8}')\n",
        "print()\n",
        "mask = A < 8\n",
        "print(f'A[mask] = \\n{A[mask]}')\n",
        "print()\n",
        "A[mask] *=2\n",
        "print(f'A = \\n{A}')"
      ]
    },
    {
      "cell_type": "markdown",
      "id": "8d7e7840",
      "metadata": {
        "id": "8d7e7840"
      },
      "source": [
        "### Operations on arrays"
      ]
    },
    {
      "cell_type": "code",
      "execution_count": 38,
      "id": "451b7d75",
      "metadata": {
        "id": "451b7d75",
        "scrolled": true
      },
      "outputs": [
        {
          "name": "stdout",
          "output_type": "stream",
          "text": [
            "A = \n",
            "[[ 1  2  3  4]\n",
            " [ 5  6  7  8]\n",
            " [ 9 10 11 12]]\n",
            "\n",
            "A.sum() = 78\n",
            "\n",
            "A.sum(axis=0) = [15 18 21 24]\n",
            "\n",
            "A.sum(axis=1) = [10 26 42]\n",
            "\n",
            "A.min() = 1\n",
            "\n",
            "A.min(axis=0) = [1 2 3 4]\n",
            "\n",
            "A.max(axis=0, keepdims=True) = [[ 9 10 11 12]]\n",
            "\n",
            "A.mean(axis=1) = [ 2.5  6.5 10.5]\n",
            "\n",
            "A.prod(axis=0) = [ 45 120 231 384]\n",
            "\n"
          ]
        }
      ],
      "source": [
        "A = np.array([[1,2,3,4], [5,6,7,8], [9,10,11,12]])\n",
        "print(f'A = \\n{A}')\n",
        "print()\n",
        "print(f'A.sum() = {A.sum()}')\n",
        "print()\n",
        "print(f'A.sum(axis=0) = {A.sum(axis=0)}')\n",
        "print()\n",
        "print(f'A.sum(axis=1) = {A.sum(axis=1)}')\n",
        "print()\n",
        "print(f'A.min() = {A.min()}')\n",
        "print()\n",
        "print(f'A.min(axis=0) = {A.min(axis=0)}')\n",
        "print()\n",
        "print(f'A.max(axis=0, keepdims=True) = {A.max(axis=0, keepdims=True)}')   # Pay attention to the shape of array!\n",
        "print()\n",
        "print(f'A.mean(axis=1) = {A.mean(axis=1)}')\n",
        "print()\n",
        "print(f'A.prod(axis=0) = {A.prod(axis=0)}')\n",
        "print()"
      ]
    },
    {
      "cell_type": "markdown",
      "id": "306aa16f",
      "metadata": {
        "id": "306aa16f"
      },
      "source": [
        "### Reshaping"
      ]
    },
    {
      "cell_type": "code",
      "execution_count": null,
      "id": "bd95994f",
      "metadata": {
        "id": "bd95994f"
      },
      "outputs": [],
      "source": [
        "A = np.array([[1,2,3,4], [5,6,7,8], [9,10,11,12]])\n",
        "print(f'A = \\n{A}')\n",
        "print()\n",
        "print(f'A.reshape(4,3) = \\n{A.reshape(4,3)}')\n",
        "print()\n",
        "print(f'A.reshape(2,6) = \\n{A.reshape(2,6)}')\n",
        "print()\n",
        "print(f'A.reshape(4,-1) = \\n{A.reshape(4,-1)}')\n",
        "print()\n",
        "print(f'A.reshape(4,-1) = \\n{A.reshape(12,)}')\n",
        "print()\n",
        "print(f'A.ravel() = \\n{A.ravel()}')\n",
        "print()"
      ]
    },
    {
      "cell_type": "markdown",
      "id": "f5c84ce1",
      "metadata": {
        "id": "f5c84ce1"
      },
      "source": [
        "### Broadcasting"
      ]
    },
    {
      "cell_type": "code",
      "execution_count": 39,
      "id": "33a8456c",
      "metadata": {
        "id": "33a8456c"
      },
      "outputs": [
        {
          "name": "stdout",
          "output_type": "stream",
          "text": [
            "A = \n",
            "[[ 1  2  3  4]\n",
            " [ 5  6  7  8]\n",
            " [ 9 10 11 12]]\n",
            "\n",
            "b = [ 1  0  2 -2]\n",
            "\n",
            "A-b = \n",
            "[[ 0  2  1  6]\n",
            " [ 4  6  5 10]\n",
            " [ 8 10  9 14]]\n",
            "\n"
          ]
        }
      ],
      "source": [
        "A = np.array([[1,2,3,4], [5,6,7,8], [9,10,11,12]])\n",
        "b = np.array([1, 0, 2, -2])\n",
        "print(f'A = \\n{A}')\n",
        "print()\n",
        "print(f'b = {b}')\n",
        "print()\n",
        "print(f'A-b = \\n{A-b}')\n",
        "print()"
      ]
    },
    {
      "cell_type": "code",
      "execution_count": 41,
      "id": "59886c80",
      "metadata": {
        "id": "59886c80"
      },
      "outputs": [
        {
          "name": "stdout",
          "output_type": "stream",
          "text": [
            "A-c = \n",
            "[[0 1 2 3]\n",
            " [3 4 5 6]\n",
            " [6 7 8 9]]\n"
          ]
        }
      ],
      "source": [
        "c = np.array([[1],[2],[3]])     # What is the error about ?\n",
        "print(f'A-c = \\n{A-c}')"
      ]
    },
    {
      "cell_type": "code",
      "execution_count": null,
      "id": "9feb4c85",
      "metadata": {
        "id": "9feb4c85"
      },
      "outputs": [],
      "source": [
        "c.shape = (3, 1)\n",
        "print(f'c = \\n{c}')\n",
        "print()\n",
        "print(f'A-c = \\n{A-c}')"
      ]
    },
    {
      "cell_type": "markdown",
      "id": "7dffc2f0",
      "metadata": {
        "id": "7dffc2f0"
      },
      "source": [
        "### Ploting with Matplotlib"
      ]
    },
    {
      "cell_type": "code",
      "execution_count": 42,
      "id": "909b3b88",
      "metadata": {
        "id": "909b3b88"
      },
      "outputs": [
        {
          "name": "stdout",
          "output_type": "stream",
          "text": [
            "x = [0.  0.1 0.2 0.3 0.4 0.5 0.6 0.7 0.8 0.9 1.  1.1 1.2 1.3 1.4 1.5 1.6 1.7\n",
            " 1.8 1.9 2.  2.1 2.2 2.3 2.4 2.5 2.6 2.7 2.8 2.9 3.  3.1 3.2 3.3 3.4 3.5\n",
            " 3.6 3.7 3.8 3.9 4.  4.1 4.2 4.3 4.4 4.5 4.6 4.7 4.8 4.9 5.  5.1 5.2 5.3\n",
            " 5.4 5.5 5.6 5.7 5.8 5.9 6.  6.1 6.2]\n",
            "y = [ 1.          0.99500417  0.98006658  0.95533649  0.92106099  0.87758256\n",
            "  0.82533561  0.76484219  0.69670671  0.62160997  0.54030231  0.45359612\n",
            "  0.36235775  0.26749883  0.16996714  0.0707372  -0.02919952 -0.12884449\n",
            " -0.22720209 -0.32328957 -0.41614684 -0.5048461  -0.58850112 -0.66627602\n",
            " -0.73739372 -0.80114362 -0.85688875 -0.90407214 -0.94222234 -0.97095817\n",
            " -0.9899925  -0.99913515 -0.99829478 -0.98747977 -0.96679819 -0.93645669\n",
            " -0.89675842 -0.84810003 -0.79096771 -0.7259323  -0.65364362 -0.57482395\n",
            " -0.49026082 -0.40079917 -0.30733287 -0.2107958  -0.11215253 -0.01238866\n",
            "  0.08749898  0.18651237  0.28366219  0.37797774  0.46851667  0.55437434\n",
            "  0.63469288  0.70866977  0.77556588  0.83471278  0.88551952  0.92747843\n",
            "  0.96017029  0.98326844  0.9965421 ]\n"
          ]
        },
        {
          "data": {
            "image/png": "[encoded data removed]",
            "text/plain": [
              "<Figure size 432x288 with 1 Axes>"
            ]
          },
          "metadata": {
            "needs_background": "light"
          },
          "output_type": "display_data"
        }
      ],
      "source": [
        "import matplotlib.pyplot as plt\n",
        "x = np.arange(0, 2 * np.pi, 0.1)\n",
        "print(f'x = {x}')\n",
        "y = np.cos(x)\n",
        "print(f'y = {y}')\n",
        "plt.plot(x,y)\n",
        "plt.show()"
      ]
    },
    {
      "cell_type": "code",
      "execution_count": 43,
      "id": "2757a221",
      "metadata": {
        "id": "2757a221"
      },
      "outputs": [
        {
          "data": {
            "image/png": "[encoded data removed]",
            "text/plain": [
              "<Figure size 432x288 with 1 Axes>"
            ]
          },
          "metadata": {
            "needs_background": "light"
          },
          "output_type": "display_data"
        }
      ],
      "source": [
        "plt.plot(x, np.sin(x), label = 'sin')\n",
        "plt.plot(x, np.cos(x), label = 'cos')\n",
        "plt.title('example')\n",
        "plt.legend()\n",
        "plt.show()"
      ]
    }
  ],
  "metadata": {
    "colab": {
      "provenance": []
    },
    "kernelspec": {
      "display_name": "Python 3 (ipykernel)",
      "language": "python",
      "name": "python3"
    },
    "language_info": {
      "codemirror_mode": {
        "name": "ipython",
        "version": 3
      },
      "file_extension": ".py",
      "mimetype": "text/x-python",
      "name": "python",
      "nbconvert_exporter": "python",
      "pygments_lexer": "ipython3",
      "version": "3.9.0"
    }
  },
  "nbformat": 4,
  "nbformat_minor": 5
}
