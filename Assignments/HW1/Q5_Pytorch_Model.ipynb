{
  "cells": [
    {
      "cell_type": "markdown",
      "metadata": {},
      "source": [
        "## Importing necessary libraries"
      ]
    },
    {
      "cell_type": "code",
      "execution_count": 2,
      "metadata": {
        "id": "6EZAKpbsQklF"
      },
      "outputs": [],
      "source": [
        "# importing needed libraries\n",
        "import torch # base library for pytorch\n",
        "from PIL import Image, ImageOps # for reading and dealing with images\n",
        "import torchvision.transforms as transforms # for converting PIL images to pytorch tensors\n",
        "import torch.nn as nn # for making neural networks in pytorch\n",
        "import torch.optim as optim # for optimizing the parameters using different optimizers like Adam, ...\n",
        "import matplotlib.pyplot as plt # for plotting the model loss in each epoch\n",
        "import numpy as np"
      ]
    },
    {
      "cell_type": "markdown",
      "metadata": {},
      "source": [
        "## Reading and Pre-Processing images\n",
        "  - reading images using PIL library\n",
        "  - converting to grayscale\n",
        "  - converting PIL Image objects to pytorch tensor using torchvision.transforms\n",
        "  - stacking all images into one single tensor\n",
        "  - removing dimensions equal to 1\n",
        "  - make pixel values between 0 and 255"
      ]
    },
    {
      "cell_type": "code",
      "execution_count": 8,
      "metadata": {
        "id": "FqXTG4Z9RAye"
      },
      "outputs": [],
      "source": [
        "# reading images\n",
        "images = []\n",
        "image1 = Image.open('Q5_1.png')\n",
        "image2 = Image.open('Q5_2.png')\n",
        "image3 = Image.open('Q5_3.png')\n",
        "image1 = ImageOps.grayscale(image1)\n",
        "image2 = ImageOps.grayscale(image2)\n",
        "image3 = ImageOps.grayscale(image3)\n",
        "\n",
        "# Convert the PIL image to Torch tensor\n",
        "images.append(transforms.ToTensor()(image1))\n",
        "images.append(transforms.ToTensor()(image2))\n",
        "images.append(transforms.ToTensor()(image3))\n",
        "# stacking the list of tensors to give us a single tensor of tensors\n",
        "images = torch.stack(images)\n",
        "# removing dimensions equal to 1\n",
        "images = torch.squeeze(images)\n",
        "images = images * 255\n"
      ]
    },
    {
      "cell_type": "markdown",
      "metadata": {},
      "source": [
        "## Preparing the labels for each input"
      ]
    },
    {
      "cell_type": "code",
      "execution_count": 10,
      "metadata": {
        "id": "faMeuHGZZFH1"
      },
      "outputs": [],
      "source": [
        "# preparing the labels in a pytorch tensor\n",
        "y = torch.tensor([0,1,2], dtype=torch.long)"
      ]
    },
    {
      "cell_type": "code",
      "execution_count": 11,
      "metadata": {
        "colab": {
          "base_uri": "https://localhost:8080/"
        },
        "id": "sHRbYS2_RzvE",
        "outputId": "52e18dc9-1b77-45c6-f39c-5bc5f87d0e8e"
      },
      "outputs": [
        {
          "name": "stdout",
          "output_type": "stream",
          "text": [
            "torch.Size([3, 461, 512])\n"
          ]
        }
      ],
      "source": [
        "print(images.shape)"
      ]
    },
    {
      "cell_type": "markdown",
      "metadata": {},
      "source": [
        "## Defining The model using Sequential API"
      ]
    },
    {
      "cell_type": "code",
      "execution_count": 54,
      "metadata": {
        "colab": {
          "base_uri": "https://localhost:8080/"
        },
        "id": "j1gHwr6ZYKb_",
        "outputId": "58d9c668-1a43-4338-d8bb-5a55a88cc318"
      },
      "outputs": [
        {
          "name": "stdout",
          "output_type": "stream",
          "text": [
            "Sequential(\n",
            "  (0): Flatten(start_dim=1, end_dim=-1)\n",
            "  (1): Linear(in_features=236032, out_features=20, bias=True)\n",
            "  (2): Tanh()\n",
            "  (3): Linear(in_features=20, out_features=3, bias=True)\n",
            "  (4): Softmax(dim=None)\n",
            ")\n"
          ]
        }
      ],
      "source": [
        "# defining some variables\n",
        "width, height = images.shape[-2], images.shape[-1]\n",
        "num_of_classes = 3\n",
        "d_hidden = 20\n",
        "# defining a neural network model using Sequential API in torch.nn\n",
        "model = nn.Sequential(\n",
        "    # to make the matrice of input image flattened so that it can be fed into the model\n",
        "    nn.Flatten(),\n",
        "    # a linear layer: first parameter: number of neurons of previous layer | second parameter: number of neurons of this layer\n",
        "    nn.Linear(width*height, d_hidden),\n",
        "    # Tanh activation function\n",
        "    nn.Tanh(),\n",
        "    # another linear layer. This is the last layer and should contain number of neurons equal to number of classes, so that we can make the final decision\n",
        "    nn.Linear(d_hidden, num_of_classes),\n",
        "    # Applying Softmax activation function to take the logits into a probabilty distribution\n",
        "    nn.Softmax()\n",
        ")\n",
        "print(model)"
      ]
    },
    {
      "cell_type": "markdown",
      "metadata": {},
      "source": [
        "## Defining loss function and the optimizer"
      ]
    },
    {
      "cell_type": "code",
      "execution_count": 55,
      "metadata": {
        "id": "lr0MxDUsZ24Z"
      },
      "outputs": [],
      "source": [
        "# our loss function is Categorical Cross Entropy as most of the classification tasks\n",
        "loss_fn = nn.CrossEntropyLoss()  # categorical cross entropy\n",
        "# using SGC optimizer to be responsible for updating parameters\n",
        "optimizer = optim.SGD(model.parameters(), lr=0.3, momentum=0.9)"
      ]
    },
    {
      "cell_type": "markdown",
      "metadata": {},
      "source": [
        "## Training the model"
      ]
    },
    {
      "cell_type": "code",
      "execution_count": 56,
      "metadata": {
        "colab": {
          "base_uri": "https://localhost:8080/"
        },
        "id": "FKG1C-LSaU59",
        "outputId": "543ac517-0cc8-4e86-e754-4581ae710356"
      },
      "outputs": [
        {
          "name": "stdout",
          "output_type": "stream",
          "text": [
            "Finished epoch 0, latest loss 1.1447914838790894\n",
            "Finished epoch 10, latest loss 0.6487715244293213\n",
            "Finished epoch 20, latest loss 0.5599068999290466\n",
            "Finished epoch 30, latest loss 0.553856611251831\n",
            "Finished epoch 40, latest loss 0.5529782772064209\n",
            "Finished epoch 50, latest loss 0.5527560710906982\n",
            "Finished epoch 60, latest loss 0.5526251792907715\n",
            "Finished epoch 70, latest loss 0.5525519251823425\n",
            "Finished epoch 80, latest loss 0.5525042414665222\n",
            "Finished epoch 90, latest loss 0.5524659156799316\n",
            "Finished epoch 100, latest loss 0.5524328351020813\n",
            "Finished epoch 110, latest loss 0.5524031519889832\n",
            "Finished epoch 120, latest loss 0.552375316619873\n",
            "Finished epoch 130, latest loss 0.5523493885993958\n",
            "Finished epoch 140, latest loss 0.5523248314857483\n",
            "Finished epoch 150, latest loss 0.5523016452789307\n",
            "Finished epoch 160, latest loss 0.5522797107696533\n",
            "Finished epoch 170, latest loss 0.5522587895393372\n",
            "Finished epoch 180, latest loss 0.5522390604019165\n",
            "Finished epoch 190, latest loss 0.5522201657295227\n"
          ]
        }
      ],
      "source": [
        "n_epochs = 200 # number of epochs, our model is going to be trained\n",
        "losses = [] # gathering losses in each epoch for further analysis\n",
        "for epoch in range(n_epochs):\n",
        "    y_pred = model(images) # prediction of the model on the images\n",
        "    loss = loss_fn(y_pred, y) # computing loss\n",
        "    optimizer.zero_grad()\n",
        "    loss.backward() # computing gradient of loss with respect to every parameter\n",
        "    optimizer.step() # updating every parameter based on its gradient computed in the previous line\n",
        "    if epoch % 10 == 0:\n",
        "      print(f'Finished epoch {epoch}, latest loss {loss}')\n",
        "    losses.append(loss.item()) # gathering losses in each epoch for further analysis"
      ]
    },
    {
      "cell_type": "markdown",
      "metadata": {},
      "source": [
        "## Plotting the loss values"
      ]
    },
    {
      "cell_type": "code",
      "execution_count": 58,
      "metadata": {
        "colab": {
          "base_uri": "https://localhost:8080/",
          "height": 448
        },
        "id": "K5yYQspfelTp",
        "outputId": "d81ce5e7-ed57-43ae-f153-6eb2e847a74b"
      },
      "outputs": [
        {
          "data": {
            "text/plain": [
              "[<matplotlib.lines.Line2D at 0x7c7b2e0a42b0>]"
            ]
          },
          "execution_count": 58,
          "metadata": {},
          "output_type": "execute_result"
        },
        {
          "data": {
            "image/png": "[encoded data removed]",
            "text/plain": [
              "<Figure size 640x480 with 1 Axes>"
            ]
          },
          "metadata": {},
          "output_type": "display_data"
        }
      ],
      "source": [
        "# plotting the loss value in each epoch\n",
        "plt.plot(np.arange(n_epochs), losses)"
      ]
    },
    {
      "cell_type": "markdown",
      "metadata": {},
      "source": [
        "## Computing accuracy"
      ]
    },
    {
      "cell_type": "code",
      "execution_count": 59,
      "metadata": {
        "colab": {
          "base_uri": "https://localhost:8080/"
        },
        "id": "BLzzg-IOlRqN",
        "outputId": "565c294f-5814-43e3-b577-9a874e00981e"
      },
      "outputs": [
        {
          "name": "stdout",
          "output_type": "stream",
          "text": [
            "Accuracy: 1.0\n"
          ]
        },
        {
          "name": "stderr",
          "output_type": "stream",
          "text": [
            "/usr/local/lib/python3.10/dist-packages/torch/nn/modules/module.py:1518: UserWarning: Implicit dimension choice for softmax has been deprecated. Change the call to include dim=X as an argument.\n",
            "  return self._call_impl(*args, **kwargs)\n"
          ]
        }
      ],
      "source": [
        "# computing the accuracy\n",
        "with torch.no_grad(): # torch.no_grad indicates that we are not in training phase\n",
        "    y_pred = model(images)\n",
        "accuracy = torch.sum((y_pred.argmax(dim=1) == y)) # computing number of correct predictions based on the maximum probability\n",
        "print(f\"Accuracy: {accuracy.item() / 3}\") # computing final accuracy"
      ]
    }
  ],
  "metadata": {
    "colab": {
      "provenance": []
    },
    "kernelspec": {
      "display_name": "Python 3",
      "name": "python3"
    },
    "language_info": {
      "name": "python"
    }
  },
  "nbformat": 4,
  "nbformat_minor": 0
}
