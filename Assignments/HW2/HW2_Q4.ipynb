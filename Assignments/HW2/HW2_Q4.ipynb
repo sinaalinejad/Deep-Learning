{
  "cells": [
    {
      "cell_type": "markdown",
      "metadata": {
        "id": "lduYbBQnuMHw"
      },
      "source": [
        "imports"
      ]
    },
    {
      "cell_type": "code",
      "execution_count": 1,
      "metadata": {
        "id": "_vlXTA-nq3w-"
      },
      "outputs": [],
      "source": [
        "import torch\n",
        "import matplotlib.pyplot as plt"
      ]
    },
    {
      "cell_type": "code",
      "execution_count": 21,
      "metadata": {
        "id": "FhYqkwUDqer6"
      },
      "outputs": [],
      "source": [
        "class model:\n",
        "    def __init__(self, x, y):\n",
        "        self.x = x\n",
        "        self.y = y\n",
        "\n",
        "        self._initalize_parameters()\n",
        "        self._initalize_moms()\n",
        "        self._initalize_RMSs()\n",
        "\n",
        "    def _initalize_parameters(self):\n",
        "        self.weights_1 = self._random_tensor((x.shape[1],3))\n",
        "        self.bias_1 = self._random_tensor(1)\n",
        "        self.weights_2 = self._random_tensor((3,1))\n",
        "        self.bias_2 = self._random_tensor(1)\n",
        "\n",
        "    def _random_tensor(self, size): return (torch.randn(size)).requires_grad_()\n",
        "\n",
        "    def _initalize_moms(self):\n",
        "        self.moms_w1, self.moms_b1 = [0], [0]\n",
        "        self.moms_w2, self.moms_b2 = [0], [0]\n",
        "\n",
        "    def _initalize_RMSs(self):\n",
        "        self.RMSs_w1, self.RMSs_b1 = [0], [0]\n",
        "        self.RMSs_w2, self.RMSs_b2 = [0], [0]\n",
        "    def _nn(self, xb):\n",
        "        l1 = xb @ self.weights_1 + self.bias_1\n",
        "        l2 = l1.max(torch.tensor(0.0))\n",
        "        l3 = l2 @ self.weights_2 + self.bias_2\n",
        "        return l3\n",
        "\n",
        "    def _loss_func(self, preds, yb):\n",
        "        return ((preds-yb)**2).mean()\n",
        "\n",
        "    def train(self, optimizer):\n",
        "        # Multiple learning rates to see how optimizers work with them\n",
        "        lrs = [10E-4,10E-3,10E-2,10E-1]\n",
        "        ## for plotting ##\n",
        "        fig, axs = plt.subplots(2,2)\n",
        "        ## for plotting ##\n",
        "        all_losses = []\n",
        "        for i, lr in enumerate(lrs):\n",
        "            losses = []\n",
        "            while(len(losses) == 0 or losses[-1] > 0.1 and len(losses) < 1000):\n",
        "                preds = self._nn(self.x)\n",
        "                loss = self._loss_func(preds, self.y)\n",
        "                loss.backward()\n",
        "                optimizer(self.weights_1, lr, self.moms_w1, self.RMSs_w1)\n",
        "                optimizer(self.bias_1, lr, self.moms_b1, self.RMSs_b1)\n",
        "                optimizer(self.weights_2, lr, self.moms_w2, self.RMSs_w2)\n",
        "                optimizer(self.bias_2, lr, self.moms_b2, self.RMSs_b2)\n",
        "                losses.append(loss.item())\n",
        "            all_losses.append(losses)\n",
        "\n",
        "            ## for plotting ##\n",
        "            xi = i%2\n",
        "            yi = int(i/2)\n",
        "            axs[xi,yi].plot(list(range(len(losses))), losses)\n",
        "            axs[xi,yi].set_ylim(0, 50)\n",
        "            axs[xi,yi].set_title('Learing Rate: '+str(lr))\n",
        "            ## for plotting ##\n",
        "\n",
        "            # Setting seed makes sure the parameters are initalized the same way for better comparison\n",
        "            torch.manual_seed(42)\n",
        "            self._initalize_parameters()\n",
        "            self._initalize_moms()\n",
        "            self._initalize_RMSs()\n",
        "\n",
        "        ## for plotting ##\n",
        "        for ax in axs.flat:\n",
        "            ax.set(xlabel='steps', ylabel='loss (MSE)')\n",
        "        plt.tight_layout()\n",
        "        ## for plotting ##"
      ]
    },
    {
      "cell_type": "markdown",
      "metadata": {
        "id": "5PVqUtpBuR4N"
      },
      "source": [
        "This simple function is implemented to generate y values from x values."
      ]
    },
    {
      "cell_type": "code",
      "execution_count": 22,
      "metadata": {
        "id": "-JTgoyZcqnEk"
      },
      "outputs": [],
      "source": [
        "def generate_fake_labels(x3, x2, x1):\n",
        "    return (x3**3 * 0.8) + (x2**2 * 0.1) + (x1 * 0.5) + 4."
      ]
    },
    {
      "cell_type": "code",
      "execution_count": 23,
      "metadata": {
        "id": "GsokscStqpqi"
      },
      "outputs": [
        {
          "name": "stdout",
          "output_type": "stream",
          "text": [
            "torch.Size([5, 3]) torch.Size([5]) tensor([4.6334, 4.3512, 4.1774, 4.2002, 4.1758])\n"
          ]
        }
      ],
      "source": [
        "x = torch.tensor([[0.7,0.3,0.7],\n",
        "                  [0.4, 1., 0.4],\n",
        "                  [0.2, 1.1, 0.1],\n",
        "                  [0.4, 0.7, 0.2],\n",
        "                  [0.1, 0.5, 0.3]])\n",
        "y = torch.tensor([generate_fake_labels(i[0],i[1],i[2]) for i in x])\n",
        "print(x.shape, y.shape, y)"
      ]
    },
    {
      "cell_type": "code",
      "execution_count": 24,
      "metadata": {
        "id": "LKQj4Fu9qspy"
      },
      "outputs": [],
      "source": [
        "y = torch.tensor([4.6334, 4.3512, 4.1774, 4.2002, 4.1758])"
      ]
    },
    {
      "cell_type": "code",
      "execution_count": 25,
      "metadata": {
        "id": "btm-7Un9F3nx"
      },
      "outputs": [],
      "source": [
        "my_model = model(x, y)"
      ]
    },
    {
      "cell_type": "markdown",
      "metadata": {
        "id": "5O6DinowuqNH"
      },
      "source": [
        "Below are a few optimizer functions. Use them for the given model and Compare and report their results."
      ]
    },
    {
      "cell_type": "code",
      "execution_count": 26,
      "metadata": {
        "id": "JqcHBgsDqu0D"
      },
      "outputs": [],
      "source": [
        "def SGD(a, lr, _, __):\n",
        "    a.data -= a.grad * lr\n",
        "    a.grad = None"
      ]
    },
    {
      "cell_type": "code",
      "execution_count": 27,
      "metadata": {
        "id": "g0JUCjyfqw-8"
      },
      "outputs": [
        {
          "data": {
            "image/png": "[encoded data removed]",
            "text/plain": [
              "<Figure size 432x288 with 4 Axes>"
            ]
          },
          "metadata": {
            "needs_background": "light"
          },
          "output_type": "display_data"
        }
      ],
      "source": [
        "#train model with SGD\n",
        "my_model.train(SGD)"
      ]
    },
    {
      "cell_type": "code",
      "execution_count": 18,
      "metadata": {
        "id": "-zPIClrmrQ_Z"
      },
      "outputs": [],
      "source": [
        "def momentum(a, lr, moms, __):\n",
        "    previous_momentum = moms[-1]\n",
        "\n",
        "    mom = a.grad * lr + previous_momentum * 0.9\n",
        "    moms.append(mom)\n",
        "    a.data -= mom\n",
        "    a.grad = None"
      ]
    },
    {
      "cell_type": "code",
      "execution_count": 19,
      "metadata": {
        "id": "1wjfK3qLsNuX"
      },
      "outputs": [
        {
          "data": {
            "image/png": "[encoded data removed]",
            "text/plain": [
              "<Figure size 432x288 with 4 Axes>"
            ]
          },
          "metadata": {
            "needs_background": "light"
          },
          "output_type": "display_data"
        }
      ],
      "source": [
        "#train model with momentum\n",
        "my_model.train(momentum)"
      ]
    }
  ],
  "metadata": {
    "accelerator": "GPU",
    "colab": {
      "provenance": []
    },
    "kernelspec": {
      "display_name": "Python 3",
      "name": "python3"
    },
    "language_info": {
      "codemirror_mode": {
        "name": "ipython",
        "version": 3
      },
      "file_extension": ".py",
      "mimetype": "text/x-python",
      "name": "python",
      "nbconvert_exporter": "python",
      "pygments_lexer": "ipython3",
      "version": "3.9.0"
    }
  },
  "nbformat": 4,
  "nbformat_minor": 0
}
