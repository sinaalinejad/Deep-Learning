{
  "cells": [
    {
      "cell_type": "code",
      "execution_count": 1,
      "metadata": {
        "id": "REwZnFcQVKuK"
      },
      "outputs": [],
      "source": [
        "from tensorflow.keras.models import Sequential\n",
        "from tensorflow.keras.layers import Conv2D\n",
        "import numpy as np"
      ]
    },
    {
      "cell_type": "code",
      "execution_count": 3,
      "metadata": {
        "colab": {
          "base_uri": "https://localhost:8080/"
        },
        "id": "bQPc_SR9VOEu",
        "outputId": "29e6ddc4-0147-4666-bd6a-585beaec413e"
      },
      "outputs": [
        {
          "name": "stdout",
          "output_type": "stream",
          "text": [
            "Model: \"sequential_1\"\n",
            "_________________________________________________________________\n",
            " Layer (type)                Output Shape              Param #   \n",
            "=================================================================\n",
            " conv2d_1 (Conv2D)           (None, 62, 62, 128)       3584      \n",
            "                                                                 \n",
            " conv2d_2 (Conv2D)           (None, 62, 62, 32)        4128      \n",
            "                                                                 \n",
            "=================================================================\n",
            "Total params: 7712 (30.12 KB)\n",
            "Trainable params: 7712 (30.12 KB)\n",
            "Non-trainable params: 0 (0.00 Byte)\n",
            "_________________________________________________________________\n",
            "1/1 [==============================] - 0s 71ms/step\n",
            "Input size: (1, 64, 64, 3)\n",
            "Output size: (1, 62, 62, 32)\n"
          ]
        }
      ],
      "source": [
        "# Define the model\n",
        "model = Sequential()\n",
        "model.add(Conv2D(128, (3, 3), input_shape=(64, 64, 3)))\n",
        "model.add(Conv2D(32, (1, 1)))\n",
        "\n",
        "# Print the model summary\n",
        "model.summary()\n",
        "\n",
        "# Create an arbitrary input\n",
        "input_data = np.random.rand(1, 64, 64, 3)\n",
        "\n",
        "# Pass the input through the model\n",
        "output_data = model.predict(input_data)\n",
        "\n",
        "# Print the input and output size\n",
        "print(f'Input size: {input_data.shape}')\n",
        "print(f'Output size: {output_data.shape}')"
      ]
    }
  ],
  "metadata": {
    "colab": {
      "provenance": []
    },
    "kernelspec": {
      "display_name": "Python 3",
      "name": "python3"
    },
    "language_info": {
      "name": "python"
    }
  },
  "nbformat": 4,
  "nbformat_minor": 0
}
