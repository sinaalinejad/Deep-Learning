{
  "nbformat": 4,
  "nbformat_minor": 0,
  "metadata": {
    "colab": {
      "provenance": [],
      "gpuType": "T4"
    },
    "kernelspec": {
      "name": "python3",
      "display_name": "Python 3"
    },
    "language_info": {
      "name": "python"
    },
    "accelerator": "GPU"
  },
  "cells": [
    {
      "cell_type": "code",
      "source": [
        "! pip install -q -U keras-tuner"
      ],
      "metadata": {
        "colab": {
          "base_uri": "https://localhost:8080/"
        },
        "id": "hUmq51OusU8q",
        "outputId": "9da4d47c-28ca-4c15-bb45-9c69f8f8a138"
      },
      "execution_count": null,
      "outputs": [
        {
          "output_type": "stream",
          "name": "stdout",
          "text": [
            "\u001b[?25l     \u001b[90m━━━━━━━━━━━━━━━━━━━━━━━━━━━━━━━━━━━━━━━━\u001b[0m \u001b[32m0.0/128.9 kB\u001b[0m \u001b[31m?\u001b[0m eta \u001b[36m-:--:--\u001b[0m\r\u001b[2K     \u001b[91m━━━━━━━━━━━━━━━━━━━━━━━━━━━━━━━━━━━━━━\u001b[0m\u001b[90m╺\u001b[0m\u001b[90m━\u001b[0m \u001b[32m122.9/128.9 kB\u001b[0m \u001b[31m4.3 MB/s\u001b[0m eta \u001b[36m0:00:01\u001b[0m\r\u001b[2K     \u001b[90m━━━━━━━━━━━━━━━━━━━━━━━━━━━━━━━━━━━━━━━━\u001b[0m \u001b[32m128.9/128.9 kB\u001b[0m \u001b[31m3.5 MB/s\u001b[0m eta \u001b[36m0:00:00\u001b[0m\n",
            "\u001b[?25h"
          ]
        }
      ]
    },
    {
      "cell_type": "code",
      "execution_count": null,
      "metadata": {
        "id": "5E2Rnk3hqL57"
      },
      "outputs": [],
      "source": [
        "from tensorflow import keras\n",
        "import keras_tuner as kt\n",
        "from keras_tuner import HyperModel, RandomSearch, Hyperband"
      ]
    },
    {
      "cell_type": "code",
      "source": [
        "(x_train, y_train), (x_test, y_test) = keras.datasets.mnist.load_data()"
      ],
      "metadata": {
        "colab": {
          "base_uri": "https://localhost:8080/"
        },
        "id": "nw6KEEFkupFN",
        "outputId": "b3d41cdd-7fd9-4281-dc2d-8baa355f6adb"
      },
      "execution_count": null,
      "outputs": [
        {
          "output_type": "stream",
          "name": "stdout",
          "text": [
            "Downloading data from https://storage.googleapis.com/tensorflow/tf-keras-datasets/mnist.npz\n",
            "11490434/11490434 [==============================] - 1s 0us/step\n"
          ]
        }
      ]
    },
    {
      "cell_type": "code",
      "source": [
        "def build_model(hp):  # Defines a function that takes a HyperModel as input and returns a built Keras model.\n",
        "  \"\"\"\n",
        "  This function builds a CNN architecture based on the hyperparameters provided by the HyperModel.\n",
        "  \"\"\"\n",
        "  # Define input layer\n",
        "  inputs = keras.Input(shape=(28, 28, 1))  # Creates an input layer for 28x28 grayscale images.\n",
        "\n",
        "  # Convolutional layer block\n",
        "  \"\"\"\n",
        "  This loop iterates a specified number of times (defined by the \"conv_layers\" hyperparameter)\n",
        "  and builds a series of convolutional layers with various configurations.\n",
        "  \"\"\"\n",
        "  x = inputs\n",
        "  for _ in range(hp.Int(\"conv_layers\", min_value=2, max_value=5)):\n",
        "    x = keras.layers.Conv2D(  # Applies a 2D Convolutional layer with:\n",
        "        hp.Int(\"filters\", min_value=32, max_value=256),  # Number of filters (feature maps) specified by the \"filters\" hyperparameter.\n",
        "        kernel_size=3,  # Kernel size of 3x3 for extracting local features.\n",
        "        activation=\"relu\",  # ReLU activation for non-linearity.\n",
        "    )(x)  # Applies the layer to the previous layer output (x).\n",
        "\n",
        "    x = keras.layers.MaxPooling2D(pool_size=(2, 2))(x)  # Applies Max Pooling with a 2x2 window for feature reduction.\n",
        "    x = keras.layers.Dropout(hp.Float(\"dropout\", min_value=0.1, max_value=0.5))(x)  # Introduces dropout with a probability specified by the \"dropout\" hyperparameter for preventing overfitting.\n",
        "\n",
        "  # Flatten and add dense layers\n",
        "  x = keras.layers.Flatten()(x)  # Flattens the output of the convolutional layers into a 1D vector.\n",
        "  \"\"\"\n",
        "  This loop iterates a specified number of times (defined by the \"dense_layers\" hyperparameter)\n",
        "  and builds a series of fully-connected layers with various configurations.\n",
        "  \"\"\"\n",
        "  for _ in range(hp.Int(\"dense_layers\", min_value=2, max_value=5)):\n",
        "    x = keras.layers.Dense(  # Applies a Dense layer with:\n",
        "        hp.Int(\"neurons\", min_value=32, max_value=256),  # Number of neurons specified by the \"neurons\" hyperparameter.\n",
        "        activation=\"relu\",  # ReLU activation for non-linearity.\n",
        "    )(x)\n",
        "    x = keras.layers.Dropout(hp.Float(\"dropout\", min_value=0.1, max_value=0.5))(x)  # Introduces dropout with a probability specified by the \"dropout\" hyperparameter for preventing overfitting.\n",
        "\n",
        "  # Output layer\n",
        "  outputs = keras.layers.Dense(10, activation=\"softmax\")(x)  # Creates a final Dense layer with 10 neurons (one for each digit) and softmax activation for classification.\n",
        "  model = keras.Model(inputs=inputs, outputs=outputs)  # Creates a Keras model with the defined input and output layers.\n",
        "  model.compile(  # Configures the model for training:\n",
        "      optimizer=keras.optimizers.Adam(learning_rate=hp.Float(\"learning_rate\", min_value=0.001, max_value=0.1)),  # Uses Adam optimizer with a learning rate specified by the \"learning_rate\" hyperparameter.\n",
        "      loss=\"sparse_categorical_crossentropy\",  # Defines the loss function for classification.\n",
        "      metrics=[\"accuracy\"],  # Specifies \"accuracy\" as the metric to track during training.\n",
        "  )\n",
        "  return model  # Returns the built and configured model.\n"
      ],
      "metadata": {
        "id": "zXXkMQ7PrCJi"
      },
      "execution_count": null,
      "outputs": []
    },
    {
      "cell_type": "code",
      "source": [
        "# Define hypermodel for tuning\n",
        "tuner = kt.Hyperband(build_model,\n",
        "                     objective='val_accuracy',\n",
        "                     max_epochs=10,\n",
        "                     factor=3)\n",
        "\n",
        "# Train and search for best hyperparameters\n",
        "tuner.search(x_train, y_train, epochs=10, validation_split=0.2)  # Trains the model and searches for the best hyperparameters using the provided training data, epochs, and validation split.\n",
        "\n",
        "# Get best model and evaluate\n",
        "best_model = tuner.get_best_models()[0]"
      ],
      "metadata": {
        "colab": {
          "base_uri": "https://localhost:8080/"
        },
        "id": "RjH10sI5u2yd",
        "outputId": "3e71a314-8262-456a-948d-677a765306f8"
      },
      "execution_count": null,
      "outputs": [
        {
          "output_type": "stream",
          "name": "stdout",
          "text": [
            "Trial 22 Complete [00h 00m 00s]\n",
            "\n",
            "Best val_accuracy So Far: 0.9460833072662354\n",
            "Total elapsed time: 00h 08m 34s\n"
          ]
        }
      ]
    },
    {
      "cell_type": "code",
      "source": [
        "best_model.evaluate(x_test, y_test)"
      ],
      "metadata": {
        "colab": {
          "base_uri": "https://localhost:8080/"
        },
        "id": "s5CB7g8QVj7g",
        "outputId": "366ea004-d09e-4a07-c8c3-d4f3b1ce1af6"
      },
      "execution_count": null,
      "outputs": [
        {
          "output_type": "stream",
          "name": "stdout",
          "text": [
            "313/313 [==============================] - 2s 4ms/step - loss: 0.2209 - accuracy: 0.9466\n"
          ]
        },
        {
          "output_type": "execute_result",
          "data": {
            "text/plain": [
              "[0.22088539600372314, 0.9466000199317932]"
            ]
          },
          "metadata": {},
          "execution_count": 6
        }
      ]
    }
  ]
}